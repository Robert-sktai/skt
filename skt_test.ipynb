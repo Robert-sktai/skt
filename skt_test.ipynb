{
 "cells": [
  {
   "cell_type": "code",
   "execution_count": 34,
   "metadata": {
    "execution": {
     "iopub.execute_input": "2020-07-24T11:19:42.348556Z",
     "iopub.status.busy": "2020-07-24T11:19:42.348301Z",
     "iopub.status.idle": "2020-07-24T11:19:42.358732Z",
     "shell.execute_reply": "2020-07-24T11:19:42.358248Z",
     "shell.execute_reply.started": "2020-07-24T11:19:42.348532Z"
    }
   },
   "outputs": [],
   "source": [
    "from skt.ye import get_spark\n",
    "from skt.gcp import load_bigquery_ipython_magic, \\\n",
    "                    bq_to_pandas, \\\n",
    "                    get_bigquery_client\n",
    "\n",
    "load_bigquery_ipython_magic()"
   ]
  },
  {
   "cell_type": "code",
   "execution_count": 43,
   "metadata": {
    "execution": {
     "iopub.execute_input": "2020-07-24T11:20:43.618334Z",
     "iopub.status.busy": "2020-07-24T11:20:43.618067Z",
     "iopub.status.idle": "2020-07-24T11:20:46.268617Z",
     "shell.execute_reply": "2020-07-24T11:20:46.268039Z",
     "shell.execute_reply.started": "2020-07-24T11:20:43.618309Z"
    }
   },
   "outputs": [
    {
     "name": "stdout",
     "output_type": "stream",
     "text": [
      "BigQuery execution took 2 seconds.\n"
     ]
    }
   ],
   "source": [
    "%%bq max_dt\n",
    "    SELECT MAX(dt) as max_dt\n",
    "    FROM tworld.twd_dst_product_group"
   ]
  },
  {
   "cell_type": "code",
   "execution_count": 2,
   "metadata": {
    "execution": {
     "iopub.execute_input": "2020-07-24T10:37:26.416547Z",
     "iopub.status.busy": "2020-07-24T10:37:26.416265Z",
     "iopub.status.idle": "2020-07-24T10:37:28.140285Z",
     "shell.execute_reply": "2020-07-24T10:37:28.139763Z",
     "shell.execute_reply.started": "2020-07-24T10:37:26.416520Z"
    }
   },
   "outputs": [
    {
     "name": "stdout",
     "output_type": "stream",
     "text": [
      "BigQuery execution took 1 seconds.\n"
     ]
    },
    {
     "data": {
      "text/html": [
       "<div>\n",
       "<style scoped>\n",
       "    .dataframe tbody tr th:only-of-type {\n",
       "        vertical-align: middle;\n",
       "    }\n",
       "\n",
       "    .dataframe tbody tr th {\n",
       "        vertical-align: top;\n",
       "    }\n",
       "\n",
       "    .dataframe thead th {\n",
       "        text-align: right;\n",
       "    }\n",
       "</style>\n",
       "<table border=\"1\" class=\"dataframe\">\n",
       "  <thead>\n",
       "    <tr style=\"text-align: right;\">\n",
       "      <th></th>\n",
       "      <th>product_grp_id</th>\n",
       "      <th>product_grp_nm</th>\n",
       "      <th>dt</th>\n",
       "    </tr>\n",
       "  </thead>\n",
       "  <tbody>\n",
       "    <tr>\n",
       "      <th>0</th>\n",
       "      <td>000003412</td>\n",
       "      <td>노키아 바나나폰</td>\n",
       "      <td>2020-07-22</td>\n",
       "    </tr>\n",
       "    <tr>\n",
       "      <th>1</th>\n",
       "      <td>000001572</td>\n",
       "      <td>BlackBerry PRIV</td>\n",
       "      <td>2020-07-22</td>\n",
       "    </tr>\n",
       "    <tr>\n",
       "      <th>2</th>\n",
       "      <td>000002832</td>\n",
       "      <td>Re 아이폰 8</td>\n",
       "      <td>2020-07-22</td>\n",
       "    </tr>\n",
       "    <tr>\n",
       "      <th>3</th>\n",
       "      <td>000002833</td>\n",
       "      <td>Re 아이폰 8 플러스</td>\n",
       "      <td>2020-07-22</td>\n",
       "    </tr>\n",
       "    <tr>\n",
       "      <th>4</th>\n",
       "      <td>000002834</td>\n",
       "      <td>Re 아이폰 X</td>\n",
       "      <td>2020-07-22</td>\n",
       "    </tr>\n",
       "    <tr>\n",
       "      <th>...</th>\n",
       "      <td>...</td>\n",
       "      <td>...</td>\n",
       "      <td>...</td>\n",
       "    </tr>\n",
       "    <tr>\n",
       "      <th>359</th>\n",
       "      <td>000002072</td>\n",
       "      <td>갤럭시 와이드2</td>\n",
       "      <td>2020-07-22</td>\n",
       "    </tr>\n",
       "    <tr>\n",
       "      <th>360</th>\n",
       "      <td>000003332</td>\n",
       "      <td>애플워치4 44mm</td>\n",
       "      <td>2020-07-22</td>\n",
       "    </tr>\n",
       "    <tr>\n",
       "      <th>361</th>\n",
       "      <td>000004234</td>\n",
       "      <td>갤럭시 S20 플러스 5G</td>\n",
       "      <td>2020-07-22</td>\n",
       "    </tr>\n",
       "    <tr>\n",
       "      <th>362</th>\n",
       "      <td>000002412</td>\n",
       "      <td>엘지 스마트 폴더</td>\n",
       "      <td>2020-07-22</td>\n",
       "    </tr>\n",
       "    <tr>\n",
       "      <th>363</th>\n",
       "      <td>000002992</td>\n",
       "      <td>Xperia XZ2 HT</td>\n",
       "      <td>2020-07-22</td>\n",
       "    </tr>\n",
       "  </tbody>\n",
       "</table>\n",
       "<p>364 rows × 3 columns</p>\n",
       "</div>"
      ],
      "text/plain": [
       "    product_grp_id   product_grp_nm          dt\n",
       "0        000003412         노키아 바나나폰  2020-07-22\n",
       "1        000001572  BlackBerry PRIV  2020-07-22\n",
       "2        000002832         Re 아이폰 8  2020-07-22\n",
       "3        000002833     Re 아이폰 8 플러스  2020-07-22\n",
       "4        000002834         Re 아이폰 X  2020-07-22\n",
       "..             ...              ...         ...\n",
       "359      000002072         갤럭시 와이드2  2020-07-22\n",
       "360      000003332       애플워치4 44mm  2020-07-22\n",
       "361      000004234   갤럭시 S20 플러스 5G  2020-07-22\n",
       "362      000002412        엘지 스마트 폴더  2020-07-22\n",
       "363      000002992    Xperia XZ2 HT  2020-07-22\n",
       "\n",
       "[364 rows x 3 columns]"
      ]
     },
     "execution_count": 2,
     "metadata": {},
     "output_type": "execute_result"
    }
   ],
   "source": [
    "%%bq\n",
    "SELECT *\n",
    "FROM tworld.twd_dst_product_group\n",
    "WHERE dt = (SELECT MAX(dt) FROM tworld.twd_dst_product_group)"
   ]
  },
  {
   "cell_type": "code",
   "execution_count": 3,
   "metadata": {
    "execution": {
     "iopub.execute_input": "2020-07-24T10:37:32.319194Z",
     "iopub.status.busy": "2020-07-24T10:37:32.318908Z",
     "iopub.status.idle": "2020-07-24T10:37:32.323066Z",
     "shell.execute_reply": "2020-07-24T10:37:32.322586Z",
     "shell.execute_reply.started": "2020-07-24T10:37:32.319167Z"
    }
   },
   "outputs": [
    {
     "data": {
      "text/plain": [
       "'1595587052'"
      ]
     },
     "execution_count": 3,
     "metadata": {},
     "output_type": "execute_result"
    }
   ],
   "source": [
    "import time\n",
    "\n",
    "str(int(time.time()))"
   ]
  },
  {
   "cell_type": "code",
   "execution_count": 4,
   "metadata": {
    "execution": {
     "iopub.execute_input": "2020-07-24T10:37:32.896007Z",
     "iopub.status.busy": "2020-07-24T10:37:32.895729Z",
     "iopub.status.idle": "2020-07-24T10:37:32.899963Z",
     "shell.execute_reply": "2020-07-24T10:37:32.899185Z",
     "shell.execute_reply.started": "2020-07-24T10:37:32.895978Z"
    }
   },
   "outputs": [
    {
     "ename": "SyntaxError",
     "evalue": "invalid syntax (<ipython-input-4-f83ff3b84f9a>, line 1)",
     "output_type": "error",
     "traceback": [
      "\u001b[0;36m  File \u001b[0;32m\"<ipython-input-4-f83ff3b84f9a>\"\u001b[0;36m, line \u001b[0;32m1\u001b[0m\n\u001b[0;31m    BigQuery to Pandas\u001b[0m\n\u001b[0m              ^\u001b[0m\n\u001b[0;31mSyntaxError\u001b[0m\u001b[0;31m:\u001b[0m invalid syntax\n"
     ]
    }
   ],
   "source": [
    "BigQuery to Pandas"
   ]
  },
  {
   "cell_type": "code",
   "execution_count": 5,
   "metadata": {
    "execution": {
     "iopub.execute_input": "2020-07-24T10:37:33.434035Z",
     "iopub.status.busy": "2020-07-24T10:37:33.433764Z",
     "iopub.status.idle": "2020-07-24T10:37:38.111463Z",
     "shell.execute_reply": "2020-07-24T10:37:38.110953Z",
     "shell.execute_reply.started": "2020-07-24T10:37:33.434009Z"
    }
   },
   "outputs": [
    {
     "name": "stderr",
     "output_type": "stream",
     "text": [
      "Downloading: 100%|██████████| 364/364 [00:02<00:00, 125.27rows/s]\n"
     ]
    },
    {
     "data": {
      "text/html": [
       "<div>\n",
       "<style scoped>\n",
       "    .dataframe tbody tr th:only-of-type {\n",
       "        vertical-align: middle;\n",
       "    }\n",
       "\n",
       "    .dataframe tbody tr th {\n",
       "        vertical-align: top;\n",
       "    }\n",
       "\n",
       "    .dataframe thead th {\n",
       "        text-align: right;\n",
       "    }\n",
       "</style>\n",
       "<table border=\"1\" class=\"dataframe\">\n",
       "  <thead>\n",
       "    <tr style=\"text-align: right;\">\n",
       "      <th></th>\n",
       "      <th>product_grp_id</th>\n",
       "      <th>product_grp_nm</th>\n",
       "      <th>dt</th>\n",
       "    </tr>\n",
       "  </thead>\n",
       "  <tbody>\n",
       "    <tr>\n",
       "      <th>0</th>\n",
       "      <td>000003412</td>\n",
       "      <td>노키아 바나나폰</td>\n",
       "      <td>2020-07-22</td>\n",
       "    </tr>\n",
       "    <tr>\n",
       "      <th>1</th>\n",
       "      <td>000001572</td>\n",
       "      <td>BlackBerry PRIV</td>\n",
       "      <td>2020-07-22</td>\n",
       "    </tr>\n",
       "    <tr>\n",
       "      <th>2</th>\n",
       "      <td>000002832</td>\n",
       "      <td>Re 아이폰 8</td>\n",
       "      <td>2020-07-22</td>\n",
       "    </tr>\n",
       "    <tr>\n",
       "      <th>3</th>\n",
       "      <td>000002833</td>\n",
       "      <td>Re 아이폰 8 플러스</td>\n",
       "      <td>2020-07-22</td>\n",
       "    </tr>\n",
       "    <tr>\n",
       "      <th>4</th>\n",
       "      <td>000002834</td>\n",
       "      <td>Re 아이폰 X</td>\n",
       "      <td>2020-07-22</td>\n",
       "    </tr>\n",
       "    <tr>\n",
       "      <th>...</th>\n",
       "      <td>...</td>\n",
       "      <td>...</td>\n",
       "      <td>...</td>\n",
       "    </tr>\n",
       "    <tr>\n",
       "      <th>359</th>\n",
       "      <td>000002072</td>\n",
       "      <td>갤럭시 와이드2</td>\n",
       "      <td>2020-07-22</td>\n",
       "    </tr>\n",
       "    <tr>\n",
       "      <th>360</th>\n",
       "      <td>000003332</td>\n",
       "      <td>애플워치4 44mm</td>\n",
       "      <td>2020-07-22</td>\n",
       "    </tr>\n",
       "    <tr>\n",
       "      <th>361</th>\n",
       "      <td>000004234</td>\n",
       "      <td>갤럭시 S20 플러스 5G</td>\n",
       "      <td>2020-07-22</td>\n",
       "    </tr>\n",
       "    <tr>\n",
       "      <th>362</th>\n",
       "      <td>000002412</td>\n",
       "      <td>엘지 스마트 폴더</td>\n",
       "      <td>2020-07-22</td>\n",
       "    </tr>\n",
       "    <tr>\n",
       "      <th>363</th>\n",
       "      <td>000002992</td>\n",
       "      <td>Xperia XZ2 HT</td>\n",
       "      <td>2020-07-22</td>\n",
       "    </tr>\n",
       "  </tbody>\n",
       "</table>\n",
       "<p>364 rows × 3 columns</p>\n",
       "</div>"
      ],
      "text/plain": [
       "    product_grp_id   product_grp_nm         dt\n",
       "0        000003412         노키아 바나나폰 2020-07-22\n",
       "1        000001572  BlackBerry PRIV 2020-07-22\n",
       "2        000002832         Re 아이폰 8 2020-07-22\n",
       "3        000002833     Re 아이폰 8 플러스 2020-07-22\n",
       "4        000002834         Re 아이폰 X 2020-07-22\n",
       "..             ...              ...        ...\n",
       "359      000002072         갤럭시 와이드2 2020-07-22\n",
       "360      000003332       애플워치4 44mm 2020-07-22\n",
       "361      000004234   갤럭시 S20 플러스 5G 2020-07-22\n",
       "362      000002412        엘지 스마트 폴더 2020-07-22\n",
       "363      000002992    Xperia XZ2 HT 2020-07-22\n",
       "\n",
       "[364 rows x 3 columns]"
      ]
     },
     "execution_count": 5,
     "metadata": {},
     "output_type": "execute_result"
    }
   ],
   "source": [
    "pd_df = bq_to_pandas(\"\"\"\n",
    "    SELECT *\n",
    "    FROM tworld.twd_dst_product_group\n",
    "    WHERE dt = (SELECT MAX(dt) FROM tworld.twd_dst_product_group)\n",
    "\"\"\")\n",
    "\n",
    "pd_df"
   ]
  },
  {
   "cell_type": "markdown",
   "metadata": {
    "execution": {
     "iopub.execute_input": "2020-07-24T10:37:38.855128Z",
     "iopub.status.busy": "2020-07-24T10:37:38.854849Z",
     "iopub.status.idle": "2020-07-24T10:37:38.858801Z",
     "shell.execute_reply": "2020-07-24T10:37:38.858133Z",
     "shell.execute_reply.started": "2020-07-24T10:37:38.855101Z"
    }
   },
   "source": [
    "Pandas to BigQuery"
   ]
  },
  {
   "cell_type": "code",
   "execution_count": 7,
   "metadata": {
    "execution": {
     "iopub.execute_input": "2020-07-24T10:37:39.715209Z",
     "iopub.status.busy": "2020-07-24T10:37:39.714931Z",
     "iopub.status.idle": "2020-07-24T10:37:47.645923Z",
     "shell.execute_reply": "2020-07-24T10:37:47.645393Z",
     "shell.execute_reply.started": "2020-07-24T10:37:39.715182Z"
    }
   },
   "outputs": [
    {
     "name": "stderr",
     "output_type": "stream",
     "text": [
      "1it [00:04,  4.71s/it]\n"
     ]
    },
    {
     "name": "stdout",
     "output_type": "stream",
     "text": [
      "temp_1d.twd_dst_product_group_1595587059\n"
     ]
    },
    {
     "data": {
      "text/plain": [
       "<google.cloud.bigquery.table.RowIterator at 0x7f92fb68cf28>"
      ]
     },
     "execution_count": 7,
     "metadata": {},
     "output_type": "execute_result"
    }
   ],
   "source": [
    "dest_table = f\"temp_1d.twd_dst_product_group_{str(int(time.time()))}\"\n",
    "pd_df.to_gbq(dest_table)\n",
    "\n",
    "print(dest_table)\n",
    "\n",
    "\n",
    "get_bigquery_client().query(f\"\"\"\n",
    "    SELECT *\n",
    "    FROM {dest_table}\n",
    "\"\"\").result()"
   ]
  },
  {
   "cell_type": "code",
   "execution_count": 8,
   "metadata": {
    "execution": {
     "iopub.execute_input": "2020-07-24T10:37:50.639103Z",
     "iopub.status.busy": "2020-07-24T10:37:50.638827Z",
     "iopub.status.idle": "2020-07-24T10:37:50.642070Z",
     "shell.execute_reply": "2020-07-24T10:37:50.641539Z",
     "shell.execute_reply.started": "2020-07-24T10:37:50.639076Z"
    }
   },
   "outputs": [],
   "source": [
    "query_params =  {\"dest_table\": dest_table}"
   ]
  },
  {
   "cell_type": "code",
   "execution_count": 10,
   "metadata": {
    "execution": {
     "iopub.execute_input": "2020-07-24T10:37:58.774730Z",
     "iopub.status.busy": "2020-07-24T10:37:58.774441Z",
     "iopub.status.idle": "2020-07-24T10:38:00.500135Z",
     "shell.execute_reply": "2020-07-24T10:38:00.499477Z",
     "shell.execute_reply.started": "2020-07-24T10:37:58.774694Z"
    }
   },
   "outputs": [
    {
     "name": "stdout",
     "output_type": "stream",
     "text": [
      "BigQuery execution took 1 seconds.\n"
     ]
    },
    {
     "data": {
      "text/html": [
       "<div>\n",
       "<style scoped>\n",
       "    .dataframe tbody tr th:only-of-type {\n",
       "        vertical-align: middle;\n",
       "    }\n",
       "\n",
       "    .dataframe tbody tr th {\n",
       "        vertical-align: top;\n",
       "    }\n",
       "\n",
       "    .dataframe thead th {\n",
       "        text-align: right;\n",
       "    }\n",
       "</style>\n",
       "<table border=\"1\" class=\"dataframe\">\n",
       "  <thead>\n",
       "    <tr style=\"text-align: right;\">\n",
       "      <th></th>\n",
       "      <th>product_grp_id</th>\n",
       "      <th>product_grp_nm</th>\n",
       "      <th>dt</th>\n",
       "    </tr>\n",
       "  </thead>\n",
       "  <tbody>\n",
       "    <tr>\n",
       "      <th>0</th>\n",
       "      <td>000003412</td>\n",
       "      <td>노키아 바나나폰</td>\n",
       "      <td>2020-07-22 00:00:00+00:00</td>\n",
       "    </tr>\n",
       "    <tr>\n",
       "      <th>1</th>\n",
       "      <td>000001572</td>\n",
       "      <td>BlackBerry PRIV</td>\n",
       "      <td>2020-07-22 00:00:00+00:00</td>\n",
       "    </tr>\n",
       "    <tr>\n",
       "      <th>2</th>\n",
       "      <td>000002832</td>\n",
       "      <td>Re 아이폰 8</td>\n",
       "      <td>2020-07-22 00:00:00+00:00</td>\n",
       "    </tr>\n",
       "    <tr>\n",
       "      <th>3</th>\n",
       "      <td>000002833</td>\n",
       "      <td>Re 아이폰 8 플러스</td>\n",
       "      <td>2020-07-22 00:00:00+00:00</td>\n",
       "    </tr>\n",
       "    <tr>\n",
       "      <th>4</th>\n",
       "      <td>000002834</td>\n",
       "      <td>Re 아이폰 X</td>\n",
       "      <td>2020-07-22 00:00:00+00:00</td>\n",
       "    </tr>\n",
       "    <tr>\n",
       "      <th>...</th>\n",
       "      <td>...</td>\n",
       "      <td>...</td>\n",
       "      <td>...</td>\n",
       "    </tr>\n",
       "    <tr>\n",
       "      <th>359</th>\n",
       "      <td>000002072</td>\n",
       "      <td>갤럭시 와이드2</td>\n",
       "      <td>2020-07-22 00:00:00+00:00</td>\n",
       "    </tr>\n",
       "    <tr>\n",
       "      <th>360</th>\n",
       "      <td>000003332</td>\n",
       "      <td>애플워치4 44mm</td>\n",
       "      <td>2020-07-22 00:00:00+00:00</td>\n",
       "    </tr>\n",
       "    <tr>\n",
       "      <th>361</th>\n",
       "      <td>000004234</td>\n",
       "      <td>갤럭시 S20 플러스 5G</td>\n",
       "      <td>2020-07-22 00:00:00+00:00</td>\n",
       "    </tr>\n",
       "    <tr>\n",
       "      <th>362</th>\n",
       "      <td>000002412</td>\n",
       "      <td>엘지 스마트 폴더</td>\n",
       "      <td>2020-07-22 00:00:00+00:00</td>\n",
       "    </tr>\n",
       "    <tr>\n",
       "      <th>363</th>\n",
       "      <td>000002992</td>\n",
       "      <td>Xperia XZ2 HT</td>\n",
       "      <td>2020-07-22 00:00:00+00:00</td>\n",
       "    </tr>\n",
       "  </tbody>\n",
       "</table>\n",
       "<p>364 rows × 3 columns</p>\n",
       "</div>"
      ],
      "text/plain": [
       "    product_grp_id   product_grp_nm                        dt\n",
       "0        000003412         노키아 바나나폰 2020-07-22 00:00:00+00:00\n",
       "1        000001572  BlackBerry PRIV 2020-07-22 00:00:00+00:00\n",
       "2        000002832         Re 아이폰 8 2020-07-22 00:00:00+00:00\n",
       "3        000002833     Re 아이폰 8 플러스 2020-07-22 00:00:00+00:00\n",
       "4        000002834         Re 아이폰 X 2020-07-22 00:00:00+00:00\n",
       "..             ...              ...                       ...\n",
       "359      000002072         갤럭시 와이드2 2020-07-22 00:00:00+00:00\n",
       "360      000003332       애플워치4 44mm 2020-07-22 00:00:00+00:00\n",
       "361      000004234   갤럭시 S20 플러스 5G 2020-07-22 00:00:00+00:00\n",
       "362      000002412        엘지 스마트 폴더 2020-07-22 00:00:00+00:00\n",
       "363      000002992    Xperia XZ2 HT 2020-07-22 00:00:00+00:00\n",
       "\n",
       "[364 rows x 3 columns]"
      ]
     },
     "execution_count": 10,
     "metadata": {},
     "output_type": "execute_result"
    }
   ],
   "source": [
    "%%bq --params $query_params\n",
    "    SELECT *\n",
    "    FROM {dest_table}"
   ]
  },
  {
   "cell_type": "code",
   "execution_count": null,
   "metadata": {},
   "outputs": [],
   "source": [
    "from skt.gcp import bq_to_spark_df"
   ]
  },
  {
   "cell_type": "code",
   "execution_count": 11,
   "metadata": {
    "execution": {
     "iopub.execute_input": "2020-07-24T10:38:03.785665Z",
     "iopub.status.busy": "2020-07-24T10:38:03.785376Z",
     "iopub.status.idle": "2020-07-24T10:38:03.788592Z",
     "shell.execute_reply": "2020-07-24T10:38:03.788084Z",
     "shell.execute_reply.started": "2020-07-24T10:38:03.785635Z"
    }
   },
   "outputs": [],
   "source": [
    "from skt.gcp import bq_to_df"
   ]
  },
  {
   "cell_type": "code",
   "execution_count": 14,
   "metadata": {
    "execution": {
     "iopub.execute_input": "2020-07-24T10:39:23.475291Z",
     "iopub.status.busy": "2020-07-24T10:39:23.475000Z",
     "iopub.status.idle": "2020-07-24T10:39:28.629255Z",
     "shell.execute_reply": "2020-07-24T10:39:28.628774Z",
     "shell.execute_reply.started": "2020-07-24T10:39:23.475263Z"
    }
   },
   "outputs": [
    {
     "data": {
      "text/plain": [
       "[Row(product_grp_id='000000292', product_grp_nm='XPERIA™ Z3', dt=datetime.datetime(2020, 7, 22, 9, 0)),\n",
       " Row(product_grp_id='000000212', product_grp_nm='G3 A', dt=datetime.datetime(2020, 7, 22, 9, 0)),\n",
       " Row(product_grp_id='000000992', product_grp_nm='Gear S2 band Classic', dt=datetime.datetime(2020, 7, 22, 9, 0)),\n",
       " Row(product_grp_id='000001412', product_grp_nm='SKY IM-100', dt=datetime.datetime(2020, 7, 22, 9, 0)),\n",
       " Row(product_grp_id='000004173', product_grp_nm='RE 아이폰 11 프로', dt=datetime.datetime(2020, 7, 22, 9, 0))]"
      ]
     },
     "execution_count": 14,
     "metadata": {},
     "output_type": "execute_result"
    }
   ],
   "source": [
    "spark_df = bq_to_df(f\"\"\"\n",
    "    SELECT *\n",
    "    FROM {dest_table}\n",
    "\"\"\")\n",
    "\n",
    "spark_df.head(5)"
   ]
  },
  {
   "cell_type": "markdown",
   "metadata": {
    "execution": {
     "iopub.execute_input": "2020-07-24T10:49:31.530489Z",
     "iopub.status.busy": "2020-07-24T10:49:31.530234Z",
     "iopub.status.idle": "2020-07-24T10:49:31.534439Z",
     "shell.execute_reply": "2020-07-24T10:49:31.533990Z",
     "shell.execute_reply.started": "2020-07-24T10:49:31.530464Z"
    }
   },
   "source": [
    "### Spark to BigQuery\n",
    "#### Spark Dataframe을 BigQuery Partitioned Table에 저장하는 예제입니다."
   ]
  },
  {
   "cell_type": "markdown",
   "metadata": {},
   "source": [
    "1. 저장할 테이블을 생성합니다. Date 타입 파티션된 테이블입니다."
   ]
  },
  {
   "cell_type": "code",
   "execution_count": 53,
   "metadata": {
    "execution": {
     "iopub.execute_input": "2020-07-24T11:28:12.097342Z",
     "iopub.status.busy": "2020-07-24T11:28:12.097074Z",
     "iopub.status.idle": "2020-07-24T11:28:13.396096Z",
     "shell.execute_reply": "2020-07-24T11:28:13.395599Z",
     "shell.execute_reply.started": "2020-07-24T11:28:12.097317Z"
    }
   },
   "outputs": [
    {
     "data": {
      "text/plain": [
       "<google.cloud.bigquery.table._EmptyRowIterator at 0x7f93b3b562b0>"
      ]
     },
     "execution_count": 53,
     "metadata": {},
     "output_type": "execute_result"
    }
   ],
   "source": [
    "from skt.gcp import df_to_bq_table\n",
    "from pyspark.sql.types import DateType\n",
    "\n",
    "dest_dataset = \"temp_1d\"\n",
    "partitioned_dest_table = f\"twd_dst_product_group_{str(int(time.time()))}\"\n",
    "\n",
    "get_bigquery_client().query(f\"\"\"\n",
    "    CREATE OR REPLACE TABLE {dest_dataset}.{partitioned_dest_table}\n",
    "    (\n",
    "        product_grp_id STRING,\n",
    "        product_grp_nm STRING,\n",
    "        dt DATE\n",
    "    )\n",
    "    PARTITION BY dt\n",
    "\"\"\").result()"
   ]
  },
  {
   "cell_type": "markdown",
   "metadata": {},
   "source": [
    "2. Spark Dataframe을 BigQuery 테이블에 저장합니다. 타입에 주의하며 필요 시 변환해주는 작업이 필요할 수 있습니다."
   ]
  },
  {
   "cell_type": "code",
   "execution_count": 61,
   "metadata": {
    "execution": {
     "iopub.execute_input": "2020-07-24T11:32:35.676579Z",
     "iopub.status.busy": "2020-07-24T11:32:35.676307Z",
     "iopub.status.idle": "2020-07-24T11:33:23.760212Z",
     "shell.execute_reply": "2020-07-24T11:33:23.759520Z",
     "shell.execute_reply.started": "2020-07-24T11:32:35.676553Z"
    }
   },
   "outputs": [],
   "source": [
    "changed_df = spark_df.select(\"product_grp_id\", \"product_grp_nm\", spark_df.dt.cast(\"date\"))\n",
    "partition_dt = changed_df.head(1)[0].dt.strftime(\"%Y%m%d\")\n",
    "df_to_bq_table(df=changed_df,\n",
    "               dataset=dest_dataset,\n",
    "               table_name=partitioned_dest_table,\n",
    "               partition=partition_dt,\n",
    "               mode=\"overwrite\")"
   ]
  },
  {
   "cell_type": "markdown",
   "metadata": {
    "execution": {
     "iopub.execute_input": "2020-07-24T11:22:22.034343Z",
     "iopub.status.busy": "2020-07-24T11:22:22.034091Z",
     "iopub.status.idle": "2020-07-24T11:22:24.605871Z",
     "shell.execute_reply": "2020-07-24T11:22:24.605324Z",
     "shell.execute_reply.started": "2020-07-24T11:22:22.034319Z"
    }
   },
   "source": [
    "3. BigQuery에 저장되었는지 확인합니다."
   ]
  },
  {
   "cell_type": "code",
   "execution_count": 62,
   "metadata": {
    "execution": {
     "iopub.execute_input": "2020-07-24T11:33:26.445670Z",
     "iopub.status.busy": "2020-07-24T11:33:26.445427Z",
     "iopub.status.idle": "2020-07-24T11:33:26.448605Z",
     "shell.execute_reply": "2020-07-24T11:33:26.448079Z",
     "shell.execute_reply.started": "2020-07-24T11:33:26.445646Z"
    }
   },
   "outputs": [],
   "source": [
    "query_params = {\"dataset\":dest_dataset, \"table_name\":partitioned_dest_table}"
   ]
  },
  {
   "cell_type": "code",
   "execution_count": 63,
   "metadata": {
    "execution": {
     "iopub.execute_input": "2020-07-24T11:33:28.706014Z",
     "iopub.status.busy": "2020-07-24T11:33:28.705765Z",
     "iopub.status.idle": "2020-07-24T11:33:30.616076Z",
     "shell.execute_reply": "2020-07-24T11:33:30.615475Z",
     "shell.execute_reply.started": "2020-07-24T11:33:28.705991Z"
    }
   },
   "outputs": [
    {
     "name": "stdout",
     "output_type": "stream",
     "text": [
      "BigQuery execution took 1 seconds.\n"
     ]
    },
    {
     "data": {
      "text/html": [
       "<div>\n",
       "<style scoped>\n",
       "    .dataframe tbody tr th:only-of-type {\n",
       "        vertical-align: middle;\n",
       "    }\n",
       "\n",
       "    .dataframe tbody tr th {\n",
       "        vertical-align: top;\n",
       "    }\n",
       "\n",
       "    .dataframe thead th {\n",
       "        text-align: right;\n",
       "    }\n",
       "</style>\n",
       "<table border=\"1\" class=\"dataframe\">\n",
       "  <thead>\n",
       "    <tr style=\"text-align: right;\">\n",
       "      <th></th>\n",
       "      <th>product_grp_id</th>\n",
       "      <th>product_grp_nm</th>\n",
       "      <th>dt</th>\n",
       "    </tr>\n",
       "  </thead>\n",
       "  <tbody>\n",
       "    <tr>\n",
       "      <th>0</th>\n",
       "      <td>000000292</td>\n",
       "      <td>XPERIA™ Z3</td>\n",
       "      <td>2020-07-22</td>\n",
       "    </tr>\n",
       "    <tr>\n",
       "      <th>1</th>\n",
       "      <td>000000212</td>\n",
       "      <td>G3 A</td>\n",
       "      <td>2020-07-22</td>\n",
       "    </tr>\n",
       "    <tr>\n",
       "      <th>2</th>\n",
       "      <td>000000992</td>\n",
       "      <td>Gear S2 band Classic</td>\n",
       "      <td>2020-07-22</td>\n",
       "    </tr>\n",
       "    <tr>\n",
       "      <th>3</th>\n",
       "      <td>000001412</td>\n",
       "      <td>SKY IM-100</td>\n",
       "      <td>2020-07-22</td>\n",
       "    </tr>\n",
       "    <tr>\n",
       "      <th>4</th>\n",
       "      <td>000004173</td>\n",
       "      <td>RE 아이폰 11 프로</td>\n",
       "      <td>2020-07-22</td>\n",
       "    </tr>\n",
       "    <tr>\n",
       "      <th>...</th>\n",
       "      <td>...</td>\n",
       "      <td>...</td>\n",
       "      <td>...</td>\n",
       "    </tr>\n",
       "    <tr>\n",
       "      <th>359</th>\n",
       "      <td>000004272</td>\n",
       "      <td>엘지 Q51</td>\n",
       "      <td>2020-07-22</td>\n",
       "    </tr>\n",
       "    <tr>\n",
       "      <th>360</th>\n",
       "      <td>000002332</td>\n",
       "      <td>LG Q6+</td>\n",
       "      <td>2020-07-22</td>\n",
       "    </tr>\n",
       "    <tr>\n",
       "      <th>361</th>\n",
       "      <td>000003152</td>\n",
       "      <td>엘지 Q8</td>\n",
       "      <td>2020-07-22</td>\n",
       "    </tr>\n",
       "    <tr>\n",
       "      <th>362</th>\n",
       "      <td>000003452</td>\n",
       "      <td>갤럭시 A9</td>\n",
       "      <td>2020-07-22</td>\n",
       "    </tr>\n",
       "    <tr>\n",
       "      <th>363</th>\n",
       "      <td>000003092</td>\n",
       "      <td>엘지 V35 ThinQ</td>\n",
       "      <td>2020-07-22</td>\n",
       "    </tr>\n",
       "  </tbody>\n",
       "</table>\n",
       "<p>364 rows × 3 columns</p>\n",
       "</div>"
      ],
      "text/plain": [
       "    product_grp_id        product_grp_nm          dt\n",
       "0        000000292            XPERIA™ Z3  2020-07-22\n",
       "1        000000212                  G3 A  2020-07-22\n",
       "2        000000992  Gear S2 band Classic  2020-07-22\n",
       "3        000001412            SKY IM-100  2020-07-22\n",
       "4        000004173          RE 아이폰 11 프로  2020-07-22\n",
       "..             ...                   ...         ...\n",
       "359      000004272                엘지 Q51  2020-07-22\n",
       "360      000002332                LG Q6+  2020-07-22\n",
       "361      000003152                 엘지 Q8  2020-07-22\n",
       "362      000003452                갤럭시 A9  2020-07-22\n",
       "363      000003092          엘지 V35 ThinQ  2020-07-22\n",
       "\n",
       "[364 rows x 3 columns]"
      ]
     },
     "execution_count": 63,
     "metadata": {},
     "output_type": "execute_result"
    }
   ],
   "source": [
    "%%bq --params $query_params\n",
    "    SELECT *\n",
    "    FROM {dataset}.{table_name}"
   ]
  }
 ],
 "metadata": {
  "kernelspec": {
   "display_name": "Python 3",
   "language": "python",
   "name": "python3"
  },
  "language_info": {
   "codemirror_mode": {
    "name": "ipython",
    "version": 3
   },
   "file_extension": ".py",
   "mimetype": "text/x-python",
   "name": "python",
   "nbconvert_exporter": "python",
   "pygments_lexer": "ipython3",
   "version": "3.6.10"
  }
 },
 "nbformat": 4,
 "nbformat_minor": 4
}
