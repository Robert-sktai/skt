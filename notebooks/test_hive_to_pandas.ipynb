{
 "cells": [
  {
   "cell_type": "code",
   "execution_count": 1,
   "metadata": {
    "execution": {
     "iopub.execute_input": "2020-07-12T19:16:12.452140Z",
     "iopub.status.busy": "2020-07-12T19:16:12.451623Z",
     "iopub.status.idle": "2020-07-12T19:16:12.557044Z",
     "shell.execute_reply": "2020-07-12T19:16:12.556401Z",
     "shell.execute_reply.started": "2020-07-12T19:16:12.452086Z"
    }
   },
   "outputs": [],
   "source": [
    "from skt.ye import parquet_to_pandas\n",
    "from skt.ye import get_hive_conn\n",
    "from skt.ye import get_hdfs_conn\n",
    "\n",
    "def hive_to_pandas_0(query):\n",
    "    import uuid\n",
    "\n",
    "    tmp_id = str(uuid.uuid4()).replace(\"-\", \"_\")\n",
    "    ctas = f\"CREATE TABLE dumbo.{tmp_id} stored as parquet as {query}\"\n",
    "    conn = get_hive_conn()\n",
    "    c = conn.cursor()\n",
    "    c.execute(\"set parquet.column.index.access=false\")\n",
    "    c.execute(ctas)\n",
    "    hdfs = get_hdfs_conn()\n",
    "    table_path = hdfs.ls(f\"/warehouse/tablespace/managed/hive/dumbo.db/{tmp_id}\")[0]\n",
    "    hdfs.close()\n",
    "    df = parquet_to_pandas(table_path)\n",
    "    c.execute(f\"DROP TABLE dumbo.{tmp_id}\")\n",
    "    c.close()\n",
    "    conn.close()\n",
    "    return df"
   ]
  },
  {
   "cell_type": "code",
   "execution_count": 2,
   "metadata": {
    "execution": {
     "iopub.execute_input": "2020-07-12T19:16:14.181994Z",
     "iopub.status.busy": "2020-07-12T19:16:14.181457Z",
     "iopub.status.idle": "2020-07-12T19:16:14.188751Z",
     "shell.execute_reply": "2020-07-12T19:16:14.187699Z",
     "shell.execute_reply.started": "2020-07-12T19:16:14.181941Z"
    }
   },
   "outputs": [],
   "source": [
    "def hive_to_pandas_1(query):\n",
    "    import pandas\n",
    "    conn = get_hive_conn()\n",
    "    df = pandas.read_sql(query, conn)\n",
    "    df.info()\n",
    "    conn.close()\n",
    "    return df"
   ]
  },
  {
   "cell_type": "code",
   "execution_count": 3,
   "metadata": {
    "execution": {
     "iopub.execute_input": "2020-07-12T19:16:15.417223Z",
     "iopub.status.busy": "2020-07-12T19:16:15.416708Z",
     "iopub.status.idle": "2020-07-12T19:16:15.422744Z",
     "shell.execute_reply": "2020-07-12T19:16:15.421740Z",
     "shell.execute_reply.started": "2020-07-12T19:16:15.417172Z"
    }
   },
   "outputs": [],
   "source": [
    "sql_0 = \"select * from saturn.dvc_grp\" # 2M\n",
    "sql_1 = \"select * from saturn.shome_dvc\" # 200M\n",
    "sql_2 = \"select * from comm.dbm_customer_mst\" # 6.5G\n",
    "sql_3 = \"select * from comm.user_profile_pivot_monthly where ym = 202001 limit 1000000\" # 3.5G"
   ]
  },
  {
   "cell_type": "code",
   "execution_count": 4,
   "metadata": {
    "execution": {
     "iopub.execute_input": "2020-07-12T19:16:16.623838Z",
     "iopub.status.busy": "2020-07-12T19:16:16.623351Z",
     "iopub.status.idle": "2020-07-12T19:16:41.966840Z",
     "shell.execute_reply": "2020-07-12T19:16:41.965472Z",
     "shell.execute_reply.started": "2020-07-12T19:16:16.623788Z"
    }
   },
   "outputs": [
    {
     "name": "stdout",
     "output_type": "stream",
     "text": [
      "<class 'pandas.core.frame.DataFrame'>\n",
      "RangeIndex: 9844 entries, 0 to 9843\n",
      "Data columns (total 27 columns):\n",
      " #   Column                   Non-Null Count  Dtype         \n",
      "---  ------                   --------------  -----         \n",
      " 0   dvc_grp_seq              9844 non-null   int64         \n",
      " 1   poc_seq                  9844 non-null   int64         \n",
      " 2   ai_svc_id                9844 non-null   object        \n",
      " 3   poc_model_type_cd        9844 non-null   object        \n",
      " 4   dvc_type_cd              9844 non-null   object        \n",
      " 5   dvc_type_id              9844 non-null   object        \n",
      " 6   dvc_model_id             9844 non-null   object        \n",
      " 7   dvc_model_name           9844 non-null   object        \n",
      " 8   os_type                  9844 non-null   object        \n",
      " 9   use_yn                   9844 non-null   object        \n",
      " 10  dvc_grp_crt_dt           9844 non-null   datetime64[ns]\n",
      " 11  dvc_grp_mdf_dt           9844 non-null   datetime64[ns]\n",
      " 12  phy_yn                   9844 non-null   object        \n",
      " 13  device_mnl               9844 non-null   object        \n",
      " 14  constructor_id           9844 non-null   object        \n",
      " 15  ctime                    9844 non-null   datetime64[ns]\n",
      " 16  modifier_id              9844 non-null   object        \n",
      " 17  mtime                    9844 non-null   datetime64[ns]\n",
      " 18  iwf_mobile_os_cd         9844 non-null   object        \n",
      " 19  iwf_dev_type_cd          9844 non-null   object        \n",
      " 20  push_server_key          9844 non-null   object        \n",
      " 21  poc_id                   9844 non-null   object        \n",
      " 22  call_use_yn              9844 non-null   object        \n",
      " 23  default_call_dev_name    9844 non-null   object        \n",
      " 24  device_image_atc_field   9844 non-null   object        \n",
      " 25  device_model_alias_name  9844 non-null   object        \n",
      " 26  dt                       9844 non-null   object        \n",
      "dtypes: datetime64[ns](4), int64(2), object(21)\n",
      "memory usage: 2.0+ MB\n"
     ]
    }
   ],
   "source": [
    "df = hive_to_pandas_0(sql_0)"
   ]
  },
  {
   "cell_type": "code",
   "execution_count": 5,
   "metadata": {
    "execution": {
     "iopub.execute_input": "2020-07-12T19:16:41.969615Z",
     "iopub.status.busy": "2020-07-12T19:16:41.969196Z",
     "iopub.status.idle": "2020-07-12T19:17:23.923652Z",
     "shell.execute_reply": "2020-07-12T19:17:23.922414Z",
     "shell.execute_reply.started": "2020-07-12T19:16:41.969566Z"
    }
   },
   "outputs": [
    {
     "name": "stdout",
     "output_type": "stream",
     "text": [
      "<class 'pandas.core.frame.DataFrame'>\n",
      "RangeIndex: 276819 entries, 0 to 276818\n",
      "Data columns (total 100 columns):\n",
      " #   Column                    Non-Null Count   Dtype \n",
      "---  ------                    --------------   ----- \n",
      " 0   dvc_cd                    276819 non-null  object\n",
      " 1   mkr_cd                    276819 non-null  object\n",
      " 2   dvc_typ_cd                276819 non-null  object\n",
      " 3   dvc_mdl_num               276819 non-null  object\n",
      " 4   dvc_typ_info              276819 non-null  object\n",
      " 5   mdl_prfx                  276819 non-null  object\n",
      " 6   dvc_nm                    276819 non-null  object\n",
      " 7   dvc_intdc_url             276819 non-null  object\n",
      " 8   dvc_imgl_file_num         276819 non-null  object\n",
      " 9   dvc_bi_imgl_file_num      276819 non-null  object\n",
      " 10  dvc_mnl_url               276819 non-null  object\n",
      " 11  dvc_guid_url              276819 non-null  object\n",
      " 12  wifi_guid_url             276819 non-null  object\n",
      " 13  wifi_guid_img_file_num1   162844 non-null  object\n",
      " 14  wifi_guid_img_file_num2   162844 non-null  object\n",
      " 15  wifi_guid_img_file_num3   162844 non-null  object\n",
      " 16  wifi_guid_img_file_num4   162844 non-null  object\n",
      " 17  wifi_guid_img_file_num5   162844 non-null  object\n",
      " 18  wifi_guid_img_file_num11  275699 non-null  object\n",
      " 19  wifi_guid_img_file_num12  275699 non-null  object\n",
      " 20  wifi_guid_img_file_num13  275699 non-null  object\n",
      " 21  wifi_guid_img_file_num14  275699 non-null  object\n",
      " 22  wifi_guid_img_file_num15  275699 non-null  object\n",
      " 23  dvc_cnnt_img_file_num2    275699 non-null  object\n",
      " 24  dvc_cnnt_img_file_num3    0 non-null       object\n",
      " 25  dvc_cnnt_img_file_num4    0 non-null       object\n",
      " 26  dvc_cnnt_img_file_num1    163292 non-null  object\n",
      " 27  dvc_cnnt_img_file_num5    0 non-null       object\n",
      " 28  dvc_cnnt_guid_info        276819 non-null  object\n",
      " 29  dvc_rlse_img1_file_num1   163068 non-null  object\n",
      " 30  dvc_rlse_img1_file_num2   163068 non-null  object\n",
      " 31  dvc_rlse_img1_file_num3   162844 non-null  object\n",
      " 32  dvc_rlse_img1_file_num4   162844 non-null  object\n",
      " 33  dvc_rlse_img1_file_num5   162844 non-null  object\n",
      " 34  dvc_rlse_img1_file_num11  275699 non-null  object\n",
      " 35  dvc_rlse_img1_file_num12  275699 non-null  object\n",
      " 36  dvc_rlse_img1_file_num13  275699 non-null  object\n",
      " 37  dvc_rlse_img1_file_num14  275699 non-null  object\n",
      " 38  dvc_rlse_img1_file_num15  275699 non-null  object\n",
      " 39  sys_typ_cd                276819 non-null  object\n",
      " 40  sys_nm                    276819 non-null  object\n",
      " 41  sys_auth_id               276819 non-null  object\n",
      " 42  sys_auth_key              276819 non-null  object\n",
      " 43  sys_url                   276819 non-null  object\n",
      " 44  app_conn_url              276819 non-null  object\n",
      " 45  app_conn_port             276819 non-null  object\n",
      " 46  conn_mthd_cd              276819 non-null  object\n",
      " 47  shome_auth_id             276819 non-null  object\n",
      " 48  shome_auth_key            276819 non-null  object\n",
      " 49  mkr_id                    276819 non-null  object\n",
      " 50  mdl_typ_info              276819 non-null  object\n",
      " 51  mdl_ssid                  276819 non-null  object\n",
      " 52  cycl_brf_tms              276819 non-null  object\n",
      " 53  svc_id                    276819 non-null  object\n",
      " 54  scrn_typ                  276819 non-null  object\n",
      " 55  mbr_scrb_url              276819 non-null  object\n",
      " 56  app_dload_url             276819 non-null  object\n",
      " 57  app_dload_ios_url         276819 non-null  object\n",
      " 58  app_dload_pkg             276819 non-null  object\n",
      " 59  app_dload_ios_pkg         276819 non-null  object\n",
      " 60  use_yn                    276819 non-null  object\n",
      " 61  cust_cntr_url             276819 non-null  object\n",
      " 62  ios_disp_yn               276819 non-null  object\n",
      " 63  adr_disp_yn               276819 non-null  object\n",
      " 64  rgst_dtm                  276819 non-null  object\n",
      " 65  rgst_user_num             276819 non-null  object\n",
      " 66  fund_cd_shtn_yn           276819 non-null  object\n",
      " 67  cpon_auto_set_yn          276819 non-null  object\n",
      " 68  gift_yn                   276819 non-null  object\n",
      " 69  rgst_psbl_dvc_cnt         276819 non-null  object\n",
      " 70  prod_mktg_dt              276819 non-null  object\n",
      " 71  epwr_qty_hst_yn           276819 non-null  object\n",
      " 72  mode_use_yn               276819 non-null  object\n",
      " 73  dtl_mode_use_yn           276819 non-null  object\n",
      " 74  aldn_lnkg_yn              276819 non-null  object\n",
      " 75  use_tms_hst_use_yn        276819 non-null  object\n",
      " 76  wthr_info_use_yn          276819 non-null  object\n",
      " 77  fine_dust_info_use_yn     276819 non-null  object\n",
      " 78  epwr_use_grph_use_yn      276819 non-null  object\n",
      " 79  dvc_msg_num1              276819 non-null  object\n",
      " 80  dvc_msg_num2              276819 non-null  object\n",
      " 81  dvc_msg_num3              276819 non-null  object\n",
      " 82  dvc_msg_num4              276819 non-null  object\n",
      " 83  user_mgnt_dvc_nm          276819 non-null  object\n",
      " 84  water_qty_info_use_yn     276819 non-null  object\n",
      " 85  main_disp_yn              276819 non-null  object\n",
      " 86  off_tmr_yn                276819 non-null  object\n",
      " 87  free_dvc_yn               276819 non-null  object\n",
      " 88  dvc_main_navi             276819 non-null  object\n",
      " 89  dvc_mode_navi             276819 non-null  object\n",
      " 90  dvc_regi_navi             276819 non-null  object\n",
      " 91  grp_yn                    276819 non-null  object\n",
      " 92  b2c_grp_yn                276819 non-null  object\n",
      " 93  b2b_grp_yn                276819 non-null  object\n",
      " 94  b2b_yn                    276819 non-null  object\n",
      " 95  b2b_mst_yn                276819 non-null  object\n",
      " 96  winix_s2s_yn              276819 non-null  object\n",
      " 97  sort_seq                  45024 non-null   object\n",
      " 98  strd_dt                   276819 non-null  object\n",
      " 99  dt                        276819 non-null  object\n",
      "dtypes: object(100)\n",
      "memory usage: 211.2+ MB\n"
     ]
    }
   ],
   "source": [
    "df = hive_to_pandas_0(sql_1)"
   ]
  },
  {
   "cell_type": "code",
   "execution_count": 6,
   "metadata": {
    "execution": {
     "iopub.execute_input": "2020-07-12T19:17:23.926631Z",
     "iopub.status.busy": "2020-07-12T19:17:23.926222Z",
     "iopub.status.idle": "2020-07-12T19:23:20.484180Z",
     "shell.execute_reply": "2020-07-12T19:23:20.483212Z",
     "shell.execute_reply.started": "2020-07-12T19:17:23.926581Z"
    }
   },
   "outputs": [
    {
     "name": "stdout",
     "output_type": "stream",
     "text": [
      "<class 'pandas.core.frame.DataFrame'>\n",
      "RangeIndex: 19453670 entries, 0 to 19453669\n",
      "Data columns (total 45 columns):\n",
      " #   Column                     Dtype \n",
      "---  ------                     ----- \n",
      " 0   svc_mgmt_num               object\n",
      " 1   imsi_num                   object\n",
      " 2   cust_num                   object\n",
      " 3   acnt_num                   object\n",
      " 4   cust_nm                    object\n",
      " 5   mbr_card_num               object\n",
      " 6   mbl_phon_num               object\n",
      " 7   birth_dt                   object\n",
      " 8   cust_age_cd                object\n",
      " 9   sex_cd                     object\n",
      " 10  job_cd                     object\n",
      " 11  svc_scrb_dt                object\n",
      " 12  prev_equip_chg_dt          object\n",
      " 13  svc_st_cd                  object\n",
      " 14  eqp_mdl_cd                 object\n",
      " 15  eqp_mdl_nm                 object\n",
      " 16  lte_cl_cd                  object\n",
      " 17  smart_phon_yn              object\n",
      " 18  email                      object\n",
      " 19  mbr_card_gr_cd             object\n",
      " 20  mbr_scrb_yn                object\n",
      " 21  tworld_email               object\n",
      " 22  fee_prod_id                object\n",
      " 23  agrmt_mth_cnt              object\n",
      " 24  agrmt_amt                  object\n",
      " 25  svc_gr_cd                  object\n",
      " 26  bill_isue_typ_cd           object\n",
      " 27  bf_m1_arpu                 object\n",
      " 28  bf_m2_arpu                 object\n",
      " 29  bf_m3_arpu                 object\n",
      " 30  bf_m4_arpu                 object\n",
      " 31  bf_m5_arpu                 object\n",
      " 32  bf_m6_arpu                 object\n",
      " 33  svc_term_dt                object\n",
      " 34  term_rsn_cd                object\n",
      " 35  cust_addr_cd               object\n",
      " 36  cust_addr_ct_pvc_nm        object\n",
      " 37  cust_addr_gun_gu_nm        object\n",
      " 38  cust_addr_up_myun_dong_nm  object\n",
      " 39  inv_addr_cd                object\n",
      " 40  inv_addr_ct_pvc_nm         object\n",
      " 41  inv_addr_gun_gu_nm         object\n",
      " 42  inv_addr_up_myun_dong_nm   object\n",
      " 43  ad_agr_yn                  object\n",
      " 44  dt                         object\n",
      "dtypes: object(45)\n",
      "memory usage: 6.5+ GB\n"
     ]
    }
   ],
   "source": [
    "df = hive_to_pandas_0(sql_2)"
   ]
  },
  {
   "cell_type": "code",
   "execution_count": 7,
   "metadata": {
    "execution": {
     "iopub.execute_input": "2020-07-12T19:23:20.486252Z",
     "iopub.status.busy": "2020-07-12T19:23:20.486066Z",
     "iopub.status.idle": "2020-07-12T19:37:33.359482Z",
     "shell.execute_reply": "2020-07-12T19:37:33.358713Z",
     "shell.execute_reply.started": "2020-07-12T19:23:20.486231Z"
    }
   },
   "outputs": [
    {
     "name": "stdout",
     "output_type": "stream",
     "text": [
      "<class 'pandas.core.frame.DataFrame'>\n",
      "RangeIndex: 1000000 entries, 0 to 999999\n",
      "Columns: 468 entries, app_use_days_music to ym\n",
      "dtypes: float64(357), object(111)\n",
      "memory usage: 3.5+ GB\n"
     ]
    }
   ],
   "source": [
    "df = hive_to_pandas_0(sql_3)"
   ]
  },
  {
   "cell_type": "code",
   "execution_count": 8,
   "metadata": {
    "execution": {
     "iopub.execute_input": "2020-07-12T19:37:33.361328Z",
     "iopub.status.busy": "2020-07-12T19:37:33.361066Z",
     "iopub.status.idle": "2020-07-12T19:37:41.356909Z",
     "shell.execute_reply": "2020-07-12T19:37:41.356220Z",
     "shell.execute_reply.started": "2020-07-12T19:37:33.361295Z"
    }
   },
   "outputs": [
    {
     "name": "stdout",
     "output_type": "stream",
     "text": [
      "<class 'pandas.core.frame.DataFrame'>\n",
      "RangeIndex: 9844 entries, 0 to 9843\n",
      "Data columns (total 27 columns):\n",
      " #   Column                           Non-Null Count  Dtype         \n",
      "---  ------                           --------------  -----         \n",
      " 0   dvc_grp.dvc_grp_seq              9844 non-null   int64         \n",
      " 1   dvc_grp.poc_seq                  9844 non-null   int64         \n",
      " 2   dvc_grp.ai_svc_id                9844 non-null   object        \n",
      " 3   dvc_grp.poc_model_type_cd        9844 non-null   object        \n",
      " 4   dvc_grp.dvc_type_cd              9844 non-null   object        \n",
      " 5   dvc_grp.dvc_type_id              9844 non-null   object        \n",
      " 6   dvc_grp.dvc_model_id             9844 non-null   object        \n",
      " 7   dvc_grp.dvc_model_name           9844 non-null   object        \n",
      " 8   dvc_grp.os_type                  9844 non-null   object        \n",
      " 9   dvc_grp.use_yn                   9844 non-null   object        \n",
      " 10  dvc_grp.dvc_grp_crt_dt           9844 non-null   datetime64[ns]\n",
      " 11  dvc_grp.dvc_grp_mdf_dt           9844 non-null   datetime64[ns]\n",
      " 12  dvc_grp.phy_yn                   9844 non-null   object        \n",
      " 13  dvc_grp.device_mnl               9844 non-null   object        \n",
      " 14  dvc_grp.constructor_id           9844 non-null   object        \n",
      " 15  dvc_grp.ctime                    9844 non-null   datetime64[ns]\n",
      " 16  dvc_grp.modifier_id              9844 non-null   object        \n",
      " 17  dvc_grp.mtime                    9844 non-null   datetime64[ns]\n",
      " 18  dvc_grp.iwf_mobile_os_cd         9844 non-null   object        \n",
      " 19  dvc_grp.iwf_dev_type_cd          9844 non-null   object        \n",
      " 20  dvc_grp.push_server_key          9844 non-null   object        \n",
      " 21  dvc_grp.poc_id                   9844 non-null   object        \n",
      " 22  dvc_grp.call_use_yn              9844 non-null   object        \n",
      " 23  dvc_grp.default_call_dev_name    9844 non-null   object        \n",
      " 24  dvc_grp.device_image_atc_field   9844 non-null   object        \n",
      " 25  dvc_grp.device_model_alias_name  9844 non-null   object        \n",
      " 26  dvc_grp.dt                       9844 non-null   object        \n",
      "dtypes: datetime64[ns](4), int64(2), object(21)\n",
      "memory usage: 2.0+ MB\n"
     ]
    }
   ],
   "source": [
    "df = hive_to_pandas_1(sql_0)"
   ]
  },
  {
   "cell_type": "code",
   "execution_count": 9,
   "metadata": {
    "execution": {
     "iopub.execute_input": "2020-07-12T19:37:41.358065Z",
     "iopub.status.busy": "2020-07-12T19:37:41.357889Z",
     "iopub.status.idle": "2020-07-12T19:39:21.063737Z",
     "shell.execute_reply": "2020-07-12T19:39:21.062757Z",
     "shell.execute_reply.started": "2020-07-12T19:37:41.358046Z"
    }
   },
   "outputs": [
    {
     "name": "stdout",
     "output_type": "stream",
     "text": [
      "<class 'pandas.core.frame.DataFrame'>\n",
      "RangeIndex: 276819 entries, 0 to 276818\n",
      "Data columns (total 100 columns):\n",
      " #   Column                              Non-Null Count   Dtype  \n",
      "---  ------                              --------------   -----  \n",
      " 0   shome_dvc.dvc_cd                    276819 non-null  object \n",
      " 1   shome_dvc.mkr_cd                    276819 non-null  object \n",
      " 2   shome_dvc.dvc_typ_cd                276819 non-null  object \n",
      " 3   shome_dvc.dvc_mdl_num               276819 non-null  object \n",
      " 4   shome_dvc.dvc_typ_info              276819 non-null  object \n",
      " 5   shome_dvc.mdl_prfx                  276819 non-null  object \n",
      " 6   shome_dvc.dvc_nm                    276819 non-null  object \n",
      " 7   shome_dvc.dvc_intdc_url             276819 non-null  object \n",
      " 8   shome_dvc.dvc_imgl_file_num         276819 non-null  float64\n",
      " 9   shome_dvc.dvc_bi_imgl_file_num      276819 non-null  float64\n",
      " 10  shome_dvc.dvc_mnl_url               276819 non-null  object \n",
      " 11  shome_dvc.dvc_guid_url              276819 non-null  object \n",
      " 12  shome_dvc.wifi_guid_url             276819 non-null  object \n",
      " 13  shome_dvc.wifi_guid_img_file_num1   162844 non-null  float64\n",
      " 14  shome_dvc.wifi_guid_img_file_num2   162844 non-null  float64\n",
      " 15  shome_dvc.wifi_guid_img_file_num3   162844 non-null  float64\n",
      " 16  shome_dvc.wifi_guid_img_file_num4   162844 non-null  float64\n",
      " 17  shome_dvc.wifi_guid_img_file_num5   162844 non-null  float64\n",
      " 18  shome_dvc.wifi_guid_img_file_num11  275699 non-null  float64\n",
      " 19  shome_dvc.wifi_guid_img_file_num12  275699 non-null  float64\n",
      " 20  shome_dvc.wifi_guid_img_file_num13  275699 non-null  float64\n",
      " 21  shome_dvc.wifi_guid_img_file_num14  275699 non-null  float64\n",
      " 22  shome_dvc.wifi_guid_img_file_num15  275699 non-null  float64\n",
      " 23  shome_dvc.dvc_cnnt_img_file_num2    275699 non-null  float64\n",
      " 24  shome_dvc.dvc_cnnt_img_file_num3    0 non-null       object \n",
      " 25  shome_dvc.dvc_cnnt_img_file_num4    0 non-null       object \n",
      " 26  shome_dvc.dvc_cnnt_img_file_num1    163292 non-null  float64\n",
      " 27  shome_dvc.dvc_cnnt_img_file_num5    0 non-null       object \n",
      " 28  shome_dvc.dvc_cnnt_guid_info        276819 non-null  object \n",
      " 29  shome_dvc.dvc_rlse_img1_file_num1   163068 non-null  float64\n",
      " 30  shome_dvc.dvc_rlse_img1_file_num2   163068 non-null  float64\n",
      " 31  shome_dvc.dvc_rlse_img1_file_num3   162844 non-null  float64\n",
      " 32  shome_dvc.dvc_rlse_img1_file_num4   162844 non-null  float64\n",
      " 33  shome_dvc.dvc_rlse_img1_file_num5   162844 non-null  float64\n",
      " 34  shome_dvc.dvc_rlse_img1_file_num11  275699 non-null  float64\n",
      " 35  shome_dvc.dvc_rlse_img1_file_num12  275699 non-null  float64\n",
      " 36  shome_dvc.dvc_rlse_img1_file_num13  275699 non-null  float64\n",
      " 37  shome_dvc.dvc_rlse_img1_file_num14  275699 non-null  float64\n",
      " 38  shome_dvc.dvc_rlse_img1_file_num15  275699 non-null  float64\n",
      " 39  shome_dvc.sys_typ_cd                276819 non-null  object \n",
      " 40  shome_dvc.sys_nm                    276819 non-null  object \n",
      " 41  shome_dvc.sys_auth_id               276819 non-null  object \n",
      " 42  shome_dvc.sys_auth_key              276819 non-null  object \n",
      " 43  shome_dvc.sys_url                   276819 non-null  object \n",
      " 44  shome_dvc.app_conn_url              276819 non-null  object \n",
      " 45  shome_dvc.app_conn_port             276819 non-null  object \n",
      " 46  shome_dvc.conn_mthd_cd              276819 non-null  object \n",
      " 47  shome_dvc.shome_auth_id             276819 non-null  object \n",
      " 48  shome_dvc.shome_auth_key            276819 non-null  object \n",
      " 49  shome_dvc.mkr_id                    276819 non-null  object \n",
      " 50  shome_dvc.mdl_typ_info              276819 non-null  object \n",
      " 51  shome_dvc.mdl_ssid                  276819 non-null  object \n",
      " 52  shome_dvc.cycl_brf_tms              276819 non-null  float64\n",
      " 53  shome_dvc.svc_id                    276819 non-null  object \n",
      " 54  shome_dvc.scrn_typ                  276819 non-null  object \n",
      " 55  shome_dvc.mbr_scrb_url              276819 non-null  object \n",
      " 56  shome_dvc.app_dload_url             276819 non-null  object \n",
      " 57  shome_dvc.app_dload_ios_url         276819 non-null  object \n",
      " 58  shome_dvc.app_dload_pkg             276819 non-null  object \n",
      " 59  shome_dvc.app_dload_ios_pkg         276819 non-null  object \n",
      " 60  shome_dvc.use_yn                    276819 non-null  object \n",
      " 61  shome_dvc.cust_cntr_url             276819 non-null  object \n",
      " 62  shome_dvc.ios_disp_yn               276819 non-null  object \n",
      " 63  shome_dvc.adr_disp_yn               276819 non-null  object \n",
      " 64  shome_dvc.rgst_dtm                  276819 non-null  object \n",
      " 65  shome_dvc.rgst_user_num             276819 non-null  object \n",
      " 66  shome_dvc.fund_cd_shtn_yn           276819 non-null  object \n",
      " 67  shome_dvc.cpon_auto_set_yn          276819 non-null  object \n",
      " 68  shome_dvc.gift_yn                   276819 non-null  object \n",
      " 69  shome_dvc.rgst_psbl_dvc_cnt         276819 non-null  float64\n",
      " 70  shome_dvc.prod_mktg_dt              276819 non-null  object \n",
      " 71  shome_dvc.epwr_qty_hst_yn           276819 non-null  object \n",
      " 72  shome_dvc.mode_use_yn               276819 non-null  object \n",
      " 73  shome_dvc.dtl_mode_use_yn           276819 non-null  object \n",
      " 74  shome_dvc.aldn_lnkg_yn              276819 non-null  object \n",
      " 75  shome_dvc.use_tms_hst_use_yn        276819 non-null  object \n",
      " 76  shome_dvc.wthr_info_use_yn          276819 non-null  object \n",
      " 77  shome_dvc.fine_dust_info_use_yn     276819 non-null  object \n",
      " 78  shome_dvc.epwr_use_grph_use_yn      276819 non-null  object \n",
      " 79  shome_dvc.dvc_msg_num1              276819 non-null  object \n",
      " 80  shome_dvc.dvc_msg_num2              276819 non-null  object \n",
      " 81  shome_dvc.dvc_msg_num3              276819 non-null  object \n",
      " 82  shome_dvc.dvc_msg_num4              276819 non-null  object \n",
      " 83  shome_dvc.user_mgnt_dvc_nm          276819 non-null  object \n",
      " 84  shome_dvc.water_qty_info_use_yn     276819 non-null  object \n",
      " 85  shome_dvc.main_disp_yn              276819 non-null  object \n",
      " 86  shome_dvc.off_tmr_yn                276819 non-null  object \n",
      " 87  shome_dvc.free_dvc_yn               276819 non-null  object \n",
      " 88  shome_dvc.dvc_main_navi             276819 non-null  object \n",
      " 89  shome_dvc.dvc_mode_navi             276819 non-null  object \n",
      " 90  shome_dvc.dvc_regi_navi             276819 non-null  object \n",
      " 91  shome_dvc.grp_yn                    276819 non-null  object \n",
      " 92  shome_dvc.b2c_grp_yn                276819 non-null  object \n",
      " 93  shome_dvc.b2b_grp_yn                276819 non-null  object \n",
      " 94  shome_dvc.b2b_yn                    276819 non-null  object \n",
      " 95  shome_dvc.b2b_mst_yn                276819 non-null  object \n",
      " 96  shome_dvc.winix_s2s_yn              276819 non-null  object \n",
      " 97  shome_dvc.sort_seq                  45024 non-null   float64\n",
      " 98  shome_dvc.strd_dt                   276819 non-null  object \n",
      " 99  shome_dvc.dt                        276819 non-null  object \n",
      "dtypes: float64(27), object(73)\n",
      "memory usage: 211.2+ MB\n"
     ]
    }
   ],
   "source": [
    "df = hive_to_pandas_1(sql_1)"
   ]
  },
  {
   "cell_type": "code",
   "execution_count": 10,
   "metadata": {
    "execution": {
     "iopub.execute_input": "2020-07-12T19:39:21.065310Z",
     "iopub.status.busy": "2020-07-12T19:39:21.065110Z",
     "iopub.status.idle": "2020-07-12T19:48:23.038279Z",
     "shell.execute_reply": "2020-07-12T19:48:23.037458Z",
     "shell.execute_reply.started": "2020-07-12T19:39:21.065287Z"
    }
   },
   "outputs": [
    {
     "name": "stdout",
     "output_type": "stream",
     "text": [
      "<class 'pandas.core.frame.DataFrame'>\n",
      "RangeIndex: 83887 entries, 0 to 83886\n",
      "Columns: 525 entries, svc_mgmt_num to label\n",
      "dtypes: float64(442), int32(80), object(3)\n",
      "memory usage: 310.4+ MB\n"
     ]
    }
   ],
   "source": [
    "sql = \"\"\"\n",
    "SELECT  a.*\n",
    "FROM\n",
    "(\n",
    "    SELECT  a.*\n",
    "    ,       b.dt as label_dt\n",
    "    ,       0 as label\n",
    "    FROM    comm.user_profile_pivot_with_embedding_daily a\n",
    "    JOIN    comm.user_label_for_vas_total_daily b\n",
    "    ON      a.svc_mgmt_num = b.svc_mgmt_num\n",
    "    AND     unix_timestamp(a.dt, 'yyyyMMdd') = unix_timestamp(b.dt, 'yyyyMMdd') - 3*24*60*60\n",
    "    WHERE   a.dt between 20200121 AND 20200706\n",
    "    AND     a.sex_cd is not null\n",
    "    AND     b.poc like '%T월드%'\n",
    "    AND     b.dt between 20200121 AND 20200709\n",
    "    AND     b.prod_id != 'NA00000292'\n",
    ") a\n",
    "LEFT JOIN\n",
    "(\n",
    "    SELECT  dt\n",
    "    ,       svc_mgmt_num\n",
    "    FROM    comm.user_join_product_daily\n",
    "    WHERE   prod_id = 'NA00000292'\n",
    ") b\n",
    "ON      a.svc_mgmt_num = b.svc_mgmt_num\n",
    "AND     a.label_dt = b.dt\n",
    "WHERE   b.svc_mgmt_num is null\n",
    "\"\"\"\n",
    "\n",
    "df = hive_to_pandas_0(sql)"
   ]
  },
  {
   "cell_type": "code",
   "execution_count": 11,
   "metadata": {
    "execution": {
     "iopub.execute_input": "2020-07-12T19:48:23.040135Z",
     "iopub.status.busy": "2020-07-12T19:48:23.039973Z",
     "iopub.status.idle": "2020-07-12T19:50:06.373755Z",
     "shell.execute_reply": "2020-07-12T19:50:06.372877Z",
     "shell.execute_reply.started": "2020-07-12T19:48:23.040117Z"
    }
   },
   "outputs": [
    {
     "name": "stdout",
     "output_type": "stream",
     "text": [
      "<class 'pandas.core.frame.DataFrame'>\n",
      "RangeIndex: 84079 entries, 0 to 84078\n",
      "Columns: 525 entries, svc_mgmt_num to label\n",
      "dtypes: float64(442), int32(80), object(3)\n",
      "memory usage: 311.1+ MB\n"
     ]
    }
   ],
   "source": [
    "df = parquet_to_pandas(\"/warehouse/tablespace/managed/hive/dumbo.db/45f57f23_ed57_4952_b72b_c56c3a72b770/delta_0000002_0000002_0000\")"
   ]
  },
  {
   "cell_type": "code",
   "execution_count": null,
   "metadata": {},
   "outputs": [],
   "source": []
  }
 ],
 "metadata": {
  "kernelspec": {
   "display_name": "Python 3",
   "language": "python",
   "name": "python3"
  },
  "language_info": {
   "codemirror_mode": {
    "name": "ipython",
    "version": 3
   },
   "file_extension": ".py",
   "mimetype": "text/x-python",
   "name": "python",
   "nbconvert_exporter": "python",
   "pygments_lexer": "ipython3",
   "version": "3.6.10"
  }
 },
 "nbformat": 4,
 "nbformat_minor": 4
}
